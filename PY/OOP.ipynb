{
 "cells": [
  {
   "cell_type": "markdown",
   "metadata": {},
   "source": [
    "# Class learning"
   ]
  },
  {
   "cell_type": "code",
   "execution_count": 1,
   "metadata": {},
   "outputs": [
    {
     "name": "stdout",
     "output_type": "stream",
     "text": [
      "Hua Q!\n",
      "My name is VAN, I'm an artist\n"
     ]
    }
   ],
   "source": [
    "class zhizhang:\n",
    "\n",
    "    def __init__(self, name, job):\n",
    "        self.name = name\n",
    "        self.job = job\n",
    "        print(\"Hua Q!\")\n",
    "\n",
    "\n",
    "ai = zhizhang('VAN', 'artist')\n",
    "print(\"My name is {}, I'm an {}\".format(ai.name, ai.job))"
   ]
  },
  {
   "cell_type": "code",
   "execution_count": 6,
   "metadata": {},
   "outputs": [
    {
     "name": "stdout",
     "output_type": "stream",
     "text": [
      "50\n",
      "30\n",
      "3\n"
     ]
    }
   ],
   "source": [
    "class AKM:\n",
    "    def __init__(self, damage, ammo, attach):\n",
    "        self.damage = damage\n",
    "        self._ammo = ammo\n",
    "        self.attach =attach\n",
    "\n",
    "akm = AKM(50, 30, 3)\n",
    "print(akm.damage)\n",
    "print(akm._ammo)\n",
    "print(akm.attach)"
   ]
  },
  {
   "cell_type": "markdown",
   "metadata": {},
   "source": [
    "# 继承父类"
   ]
  },
  {
   "cell_type": "code",
   "execution_count": 7,
   "metadata": {},
   "outputs": [
    {
     "name": "stdout",
     "output_type": "stream",
     "text": [
      "24岁, student desu\n",
      "Hua Q!\n",
      "5岁, artist desu\n"
     ]
    }
   ],
   "source": [
    "class Person:\n",
    "\n",
    "    def __init__(self, name, age, job):\n",
    "        self.name = name\n",
    "        self.age = age\n",
    "        self.job = job\n",
    "\n",
    "\n",
    "    def intro(self):\n",
    "        print(\"{}岁, {} desu\".format(self.age, self.job))\n",
    "\n",
    "\n",
    "\n",
    "class Young(Person):\n",
    "\n",
    "    def intro(self):\n",
    "        print(\"Hua Q!\")\n",
    "        super().intro()#调用父类一样名称功能\n",
    "\n",
    "\n",
    "I = Person('LaoWang', 24, 'student')\n",
    "you = Young('WuKe', 5,'artist')\n",
    "\n",
    "\n",
    "I.intro()\n",
    "you.intro()"
   ]
  },
  {
   "cell_type": "markdown",
   "metadata": {},
   "source": [
    "2018-10-14"
   ]
  }
 ],
 "metadata": {
  "kernelspec": {
   "display_name": "Python 3",
   "language": "python",
   "name": "python3"
  },
  "language_info": {
   "codemirror_mode": {
    "name": "ipython",
    "version": 3
   },
   "file_extension": ".py",
   "mimetype": "text/x-python",
   "name": "python",
   "nbconvert_exporter": "python",
   "pygments_lexer": "ipython3",
   "version": "3.6.4"
  }
 },
 "nbformat": 4,
 "nbformat_minor": 2
}
